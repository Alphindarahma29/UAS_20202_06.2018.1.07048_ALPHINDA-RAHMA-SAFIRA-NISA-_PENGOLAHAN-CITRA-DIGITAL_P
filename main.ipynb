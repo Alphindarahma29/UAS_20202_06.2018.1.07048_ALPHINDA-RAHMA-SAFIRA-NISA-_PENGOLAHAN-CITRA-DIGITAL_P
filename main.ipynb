{
 "cells": [
  {
   "cell_type": "code",
   "execution_count": null,
   "metadata": {},
   "outputs": [],
   "source": [
    "import cv2\n",
    "\n",
    "video = cv2.VideoCapture(\"CCTV Swalayan.mp4\")\n",
    "\n",
    "find = cv2.createBackgroundSubtractorMOG2()\n",
    "\n",
    "while True:\n",
    "    ret, frame = video.read()\n",
    "    \n",
    "    spot = frame [30:299, 200:500]\n",
    "    \n",
    "    objek = find.apply(spot)\n",
    "    \n",
    "    contours, _ = cv2.findContours(objek, cv2.RETR_TREE, cv2.CHAIN_APPROX_SIMPLE)\n",
    "    for cnt in contours:\n",
    "        luas = cv2.contourArea(cnt)\n",
    "        if luas > 500:\n",
    "            cv2.drawContours(spot, (cnt), -1, (0,255,0), 1)\n",
    "            x, y, w, h = cv2.boundingRect(cnt)\n",
    "            cv2.rectangle(spot, (x, y), (x + w, y + h), (0,255,0), 3)\n",
    "    \n",
    "    cv2.imshow(\"CCTV Swalayan\", frame)\n",
    "    cv2.imshow(\"objek\", objek)\n",
    "    cv2.imshow(\"spot\", spot)\n",
    "    \n",
    "    key = cv2.waitKey(30)\n",
    "    if key == 27:\n",
    "        break\n",
    "        \n",
    "video.release()\n",
    "cv2.destroyAllWindows()"
   ]
  },
  {
   "cell_type": "code",
   "execution_count": null,
   "metadata": {},
   "outputs": [],
   "source": []
  }
 ],
 "metadata": {
  "kernelspec": {
   "display_name": "Python 3",
   "language": "python",
   "name": "python3"
  },
  "language_info": {
   "codemirror_mode": {
    "name": "ipython",
    "version": 3
   },
   "file_extension": ".py",
   "mimetype": "text/x-python",
   "name": "python",
   "nbconvert_exporter": "python",
   "pygments_lexer": "ipython3",
   "version": "3.8.5"
  }
 },
 "nbformat": 4,
 "nbformat_minor": 4
}
